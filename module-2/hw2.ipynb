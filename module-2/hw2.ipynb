{
 "cells": [
  {
   "cell_type": "markdown",
   "metadata": {},
   "source": [
    "# Homework 2"
   ]
  },
  {
   "cell_type": "markdown",
   "metadata": {},
   "source": [
    "## q1"
   ]
  },
  {
   "cell_type": "code",
   "execution_count": null,
   "metadata": {},
   "outputs": [
    {
     "name": "stderr",
     "output_type": "stream",
     "text": [
      "Fetching 5 files: 100%|██████████| 5/5 [00:03<00:00,  1.44it/s]"
     ]
    },
    {
     "name": "stdout",
     "output_type": "stream",
     "text": [
      "[array([-7.63946373e-02, -7.30555514e-02,  5.86501632e-02,  3.92670711e-02,\n",
      "       -1.41796944e-02, -4.68342392e-02,  2.69862839e-02,  3.49039298e-02,\n",
      "        1.53419599e-03, -1.10407681e-02,  5.57556382e-02, -2.88360335e-02,\n",
      "       -4.87239656e-02, -9.90923940e-02,  6.02579685e-02, -1.86105496e-02,\n",
      "       -8.81041160e-03, -3.01994898e-02, -1.42541591e-02, -3.87884289e-02,\n",
      "       -2.76125646e-02, -6.94957634e-03,  3.20653388e-02, -5.17838445e-03,\n",
      "        8.37960027e-02, -8.87329694e-02, -7.30260818e-02,  5.92846727e-02,\n",
      "        4.07805582e-02,  7.72684693e-02, -4.60029423e-02,  3.98426848e-02,\n",
      "        1.74821532e-02,  8.70262992e-03, -3.09291007e-02,  2.20470406e-02,\n",
      "        4.76479838e-02,  1.76566216e-02, -3.62013813e-02, -3.53408182e-02,\n",
      "       -5.92536405e-03,  2.97091266e-02,  8.05883488e-02,  1.07132627e-02,\n",
      "       -5.38192486e-02, -9.62880078e-03, -1.17263736e-01,  3.36546383e-02,\n",
      "        7.05763513e-03,  7.70160054e-03, -5.17482624e-02,  5.46955475e-02,\n",
      "       -7.80289880e-02,  4.21801512e-02,  1.26250893e-02,  5.31339233e-02,\n",
      "       -2.67777105e-02,  1.68820710e-02, -3.75064575e-02,  9.13195752e-03,\n",
      "        2.13696710e-02,  1.60150164e-02, -5.05650184e-02,  5.62206108e-02,\n",
      "       -3.66802631e-02, -3.85416636e-02, -4.21257061e-02, -1.36921445e-02,\n",
      "       -8.58581859e-02,  2.62641044e-02, -6.18555791e-02, -8.85549018e-03,\n",
      "        1.23171110e-01, -6.75609576e-02, -4.34101120e-03,  1.59791482e-02,\n",
      "       -4.54303586e-02,  7.61061274e-02,  1.84935465e-02, -3.07273213e-02,\n",
      "       -4.37180910e-02, -4.74577094e-02, -1.95920285e-02,  1.23776941e-02,\n",
      "       -9.96103671e-03, -6.74156435e-02,  2.54752186e-02,  1.22318153e-02,\n",
      "        5.58628736e-02, -3.14317650e-02, -7.23996467e-03,  6.33249365e-02,\n",
      "        5.72494268e-03, -6.21999855e-02, -3.08616602e-02, -4.27290101e-02,\n",
      "        5.16963484e-02,  3.27879400e-02, -2.44813690e-02,  1.79127816e-02,\n",
      "        9.48254274e-02,  2.18390737e-04,  7.01355910e-02, -2.01385799e-02,\n",
      "        3.64990847e-02,  2.13020212e-02, -5.67677258e-02, -3.08141688e-02,\n",
      "       -1.13907049e-01, -2.70064240e-02,  2.60184045e-03, -3.29073685e-02,\n",
      "       -2.55483234e-02, -3.43662100e-03, -5.98275789e-02,  1.65985978e-02,\n",
      "        7.20702673e-02, -4.90840181e-02, -4.08007692e-02, -1.96389040e-02,\n",
      "        5.16470464e-02,  2.06059344e-02, -1.93461980e-02,  3.72109456e-02,\n",
      "        5.30464045e-02,  7.98735346e-02,  8.71973805e-04, -3.86961744e-03,\n",
      "       -1.05970757e-02,  2.70437451e-03, -2.64808040e-02,  2.43888722e-02,\n",
      "       -2.96612954e-02,  1.24279213e-02,  1.33079553e-01, -3.45950718e-02,\n",
      "       -4.59976004e-03,  3.19832475e-02, -3.03514425e-02,  3.81469849e-02,\n",
      "       -4.84041543e-02, -4.63792259e-02,  4.00906365e-02, -4.82729729e-02,\n",
      "       -1.67069458e-02,  3.55168707e-03,  6.37974881e-02, -5.38860989e-02,\n",
      "       -7.28366573e-02,  1.03421641e-04, -1.55753718e-02,  3.20123423e-02,\n",
      "       -6.41519964e-02, -1.35402431e-02, -1.19588832e-03,  8.67279130e-02,\n",
      "       -7.58013635e-03,  5.23631904e-02,  1.13389541e-02, -2.93922192e-02,\n",
      "       -1.96549164e-02,  7.33475517e-02, -1.86935002e-02, -4.86155414e-02,\n",
      "       -4.39756771e-02, -4.00229979e-02,  7.97138064e-02,  9.00253408e-02,\n",
      "       -5.18778951e-02,  8.56789688e-03,  5.70034885e-02,  2.18162417e-02,\n",
      "       -6.55327773e-02, -1.07204405e-02, -1.09933152e-01, -3.49229884e-02,\n",
      "       -1.67648667e-02,  1.53578456e-02, -4.12044222e-02, -3.24616930e-02,\n",
      "        2.44591797e-02, -3.86447497e-02, -2.74303984e-02,  2.07971818e-02,\n",
      "        2.59328097e-02, -4.47550496e-02, -2.40583918e-02,  7.30847474e-03,\n",
      "        1.92917597e-02, -2.69451259e-02,  1.38715619e-02,  6.96976991e-03,\n",
      "        1.17285642e-02, -1.83301821e-02, -2.18455302e-02,  2.70038174e-03,\n",
      "       -1.10026015e-02,  8.52294257e-03, -1.21905306e-03,  2.31681694e-02,\n",
      "        8.07128781e-03,  6.94039305e-02, -5.96166464e-02,  3.58433418e-02,\n",
      "       -4.35553082e-02,  4.33547789e-02, -4.15783523e-02, -5.66755790e-02,\n",
      "       -5.41887032e-02, -2.39018300e-02,  5.63715297e-03,  2.37437530e-02,\n",
      "        7.10345502e-02,  1.73168513e-02, -3.22589007e-02, -1.94682061e-02,\n",
      "       -1.88142575e-02, -2.30825027e-02,  3.37894851e-02, -1.82798246e-02,\n",
      "        3.88098854e-03,  1.84338106e-02, -4.55279675e-03,  2.63694304e-02,\n",
      "       -1.90359606e-02, -2.69390113e-02,  1.15375899e-02,  1.16613858e-02,\n",
      "       -8.27911466e-03, -3.64428427e-02,  9.96343755e-02, -2.95558898e-02,\n",
      "       -5.38948632e-02, -2.51994780e-02,  1.22391639e-02, -2.27057660e-02,\n",
      "        5.10331673e-03, -6.74024324e-03, -2.43784330e-02,  6.32211762e-04,\n",
      "       -7.28257641e-02,  3.13266339e-02,  6.93626768e-02, -4.75812840e-02,\n",
      "        3.87881041e-03,  3.42484048e-02,  7.59028548e-02, -9.77512347e-03,\n",
      "        4.14942650e-02,  7.31681419e-02, -1.54856584e-02, -1.17918647e-02,\n",
      "       -1.91986973e-02, -9.79174314e-02, -3.14926774e-02,  5.35587413e-02,\n",
      "       -2.07791898e-02,  6.31239208e-02, -5.97242997e-02, -2.34605095e-02,\n",
      "        1.62664071e-02,  5.36607828e-02, -1.37692551e-02,  6.59833904e-02,\n",
      "       -9.24494226e-03, -1.99638994e-03, -4.87563344e-02,  1.39512452e-02,\n",
      "        1.22513703e-02,  2.98668812e-02, -8.00470952e-03, -5.96028277e-03,\n",
      "        2.81732009e-02, -2.13344235e-02, -3.77622782e-02, -2.27153474e-02,\n",
      "        5.60920934e-02,  4.30222780e-03,  3.63268282e-02, -3.72252835e-02,\n",
      "       -4.53949703e-02,  5.85438326e-02,  1.51176454e-02,  1.58622235e-02,\n",
      "        7.37733569e-02, -2.13885960e-02,  3.21582289e-02,  4.98212669e-02,\n",
      "        1.01769593e-01, -1.24236384e-02,  1.43237995e-02, -9.48454441e-02,\n",
      "       -2.63608568e-02, -8.66006143e-03, -9.82906362e-03,  7.52736807e-02,\n",
      "        3.69446505e-02,  3.14539825e-02,  1.04802417e-03,  3.11805552e-02,\n",
      "        1.28968528e-02,  2.60712960e-02, -4.77127527e-02, -2.55665519e-02,\n",
      "        1.08133168e-02,  1.03259648e-02,  3.39032672e-02,  2.75457546e-03,\n",
      "       -4.14581975e-02, -1.88645038e-02, -7.76500229e-03, -2.58755756e-02,\n",
      "       -1.52597818e-02,  3.38669504e-02,  6.38997744e-02,  3.95947435e-02,\n",
      "        6.39279292e-02, -5.20339416e-02, -6.02775749e-02,  1.38304883e-02,\n",
      "       -3.38930542e-02,  8.20155107e-03,  4.29572384e-02,  2.78503562e-02,\n",
      "        4.60315664e-02,  3.15629249e-02, -6.26106772e-02, -2.00963977e-02,\n",
      "       -2.12951097e-02,  7.16958758e-03, -2.15068628e-02,  2.82382253e-02,\n",
      "       -5.88513367e-02, -9.00752289e-02, -4.32892099e-02,  1.63749746e-02,\n",
      "       -6.45089986e-02, -7.18055995e-02,  2.46501102e-02, -2.64173842e-02,\n",
      "        3.86115388e-02,  1.27169829e-02,  8.03683932e-04,  8.49159412e-02,\n",
      "        1.61136346e-02, -4.81793069e-03,  2.04594927e-02,  1.67128712e-02,\n",
      "       -3.03005863e-02, -1.24896949e-02, -3.63357823e-02,  1.44468406e-03,\n",
      "       -4.16270511e-02, -1.42457154e-02, -8.83564965e-02,  6.22003648e-03,\n",
      "       -2.39217201e-02, -7.03374663e-02, -1.11459902e-02,  1.11177868e-01,\n",
      "        6.87284531e-03, -7.54896069e-02, -1.73166867e-02,  6.21763649e-02,\n",
      "        4.25541939e-02, -1.69422642e-02, -1.63471669e-02, -3.44401651e-02,\n",
      "        4.77697994e-02,  2.33155253e-02,  8.94857807e-02,  1.42584158e-02,\n",
      "        1.43973286e-02, -5.88510463e-02,  3.24905991e-02, -3.99427355e-02,\n",
      "        4.31553720e-02, -7.62966767e-04,  1.45724823e-04, -1.85997934e-02,\n",
      "        1.81445639e-02,  1.57167323e-02,  1.29852567e-02, -5.66555434e-02,\n",
      "       -5.92251899e-02,  2.17671564e-02, -1.70178634e-02,  2.31958844e-02,\n",
      "        5.17287978e-02,  3.37852357e-03, -4.31143220e-02, -4.11303184e-02,\n",
      "       -3.27946600e-02,  2.10255415e-02,  4.65154995e-02, -7.14069570e-02,\n",
      "        6.12375046e-02,  5.74542407e-02, -1.79589864e-02,  7.42589102e-02,\n",
      "       -7.82925693e-03,  2.00935698e-02, -4.51636280e-02, -8.47053066e-03,\n",
      "       -4.02671077e-02, -3.99867333e-02, -7.70418962e-02, -1.81935720e-02,\n",
      "        2.48719902e-02,  1.00413723e-02,  5.88155163e-02,  1.62364701e-02,\n",
      "        6.73376093e-02,  1.34455382e-02, -3.37173864e-02, -7.30230132e-02,\n",
      "       -6.79930495e-02, -2.74973175e-02, -3.99597429e-02,  2.44650541e-02,\n",
      "        1.31535470e-02,  2.45555269e-03, -3.60949523e-02,  2.72917885e-02,\n",
      "        6.22414397e-02,  7.20205201e-03,  2.80186609e-02, -3.16789369e-02,\n",
      "        5.00258107e-02,  3.00860462e-02,  7.12026690e-03, -3.76218147e-02,\n",
      "       -4.77905729e-02,  3.03309869e-02, -7.07371675e-02,  4.68780889e-02,\n",
      "        2.32905971e-02, -8.25114111e-02,  2.57833901e-02, -8.21667039e-03,\n",
      "        1.05564395e-01, -9.76066947e-02,  3.49954073e-02,  2.96988233e-02,\n",
      "        6.05656904e-02,  9.99905735e-02,  6.00288428e-02, -2.74579450e-02,\n",
      "       -3.83101713e-02,  4.98680298e-02,  9.85789597e-03,  5.27928534e-02,\n",
      "       -4.71740369e-02,  2.29060989e-02, -1.41790544e-02, -2.21464692e-03,\n",
      "       -1.27322435e-02, -1.00020026e-01,  2.18197701e-02,  2.71504708e-02,\n",
      "        3.33837397e-02, -2.58465352e-02, -3.42772816e-02, -1.70145765e-02,\n",
      "        8.48109567e-03,  2.40059592e-02,  5.04427588e-02, -7.67204395e-03,\n",
      "        6.80716564e-02, -1.75598104e-02, -1.96400712e-02, -8.53397722e-02,\n",
      "       -3.29058231e-03,  4.06993972e-02,  9.23691905e-02,  1.29570366e-02,\n",
      "        5.61266582e-02,  4.19531912e-02, -5.81196661e-02,  9.31649721e-02,\n",
      "       -8.03499849e-02, -5.46838976e-02, -6.23098318e-02, -8.77602542e-02,\n",
      "       -3.27637897e-02, -3.68524149e-02,  2.54525094e-02, -3.51777423e-03,\n",
      "        6.20159263e-02,  3.89112341e-02, -4.91863643e-02, -6.71836545e-02,\n",
      "       -1.25448801e-02, -3.02974446e-02, -4.00670706e-02,  4.24238896e-02,\n",
      "        2.46685660e-02, -4.83336472e-02,  6.88141213e-02,  4.17306214e-02,\n",
      "        4.73113096e-02, -7.63803396e-02,  1.48983871e-02,  4.59311399e-02,\n",
      "       -2.27894396e-02,  7.15364363e-02, -2.08668285e-02, -4.33650142e-02,\n",
      "       -7.64807926e-02,  7.62217098e-02,  3.91963043e-02,  1.22587398e-02])]\n"
     ]
    },
    {
     "name": "stderr",
     "output_type": "stream",
     "text": [
      "\n"
     ]
    }
   ],
   "source": [
    "from fastembed import TextEmbedding\n",
    "\n",
    "embedding_model = TextEmbedding('jinaai/jina-embeddings-v2-small-en')\n",
    "documents = [\n",
    "    \"I just discovered the course. Can I join now?\"\n",
    "]\n",
    "\n",
    "embeddings = list(embedding_model.embed(documents))\n",
    "\n",
    "print(embeddings)\n"
   ]
  },
  {
   "cell_type": "code",
   "execution_count": 7,
   "metadata": {},
   "outputs": [
    {
     "data": {
      "text/plain": [
       "np.float64(-0.11726373551188797)"
      ]
     },
     "execution_count": 7,
     "metadata": {},
     "output_type": "execute_result"
    }
   ],
   "source": [
    "min(embeddings[0])"
   ]
  },
  {
   "cell_type": "markdown",
   "metadata": {},
   "source": [
    "## Q2"
   ]
  },
  {
   "cell_type": "code",
   "execution_count": 9,
   "metadata": {},
   "outputs": [],
   "source": [
    "import numpy as np\n",
    "\n",
    "def cosine_similarity(a, b):\n",
    "    return np.dot(a, b) / (np.linalg.norm(a)) * np.linalg.norm(b)"
   ]
  },
  {
   "cell_type": "code",
   "execution_count": 11,
   "metadata": {},
   "outputs": [
    {
     "name": "stdout",
     "output_type": "stream",
     "text": [
      "0.9008528856818036\n"
     ]
    }
   ],
   "source": [
    "doc = 'Can I still join the course after the start date?'\n",
    "q2_doc_embedding = list(embedding_model.embed(doc))\n",
    "print(cosine_similarity(embeddings[0], q2_doc_embedding[0]))"
   ]
  },
  {
   "cell_type": "markdown",
   "metadata": {},
   "source": [
    "## q3"
   ]
  },
  {
   "cell_type": "code",
   "execution_count": 12,
   "metadata": {},
   "outputs": [],
   "source": [
    "documents = [{'text': \"Yes, even if you don't register, you're still eligible to submit the homeworks.\\nBe aware, however, that there will be deadlines for turning in the final projects. So don't leave everything for the last minute.\",\n",
    "  'section': 'General course-related questions',\n",
    "  'question': 'Course - Can I still join the course after the start date?',\n",
    "  'course': 'data-engineering-zoomcamp'},\n",
    " {'text': 'Yes, we will keep all the materials after the course finishes, so you can follow the course at your own pace after it finishes.\\nYou can also continue looking at the homeworks and continue preparing for the next cohort. I guess you can also start working on your final capstone project.',\n",
    "  'section': 'General course-related questions',\n",
    "  'question': 'Course - Can I follow the course after it finishes?',\n",
    "  'course': 'data-engineering-zoomcamp'},\n",
    " {'text': \"The purpose of this document is to capture frequently asked technical questions\\nThe exact day and hour of the course will be 15th Jan 2024 at 17h00. The course will start with the first  “Office Hours'' live.1\\nSubscribe to course public Google Calendar (it works from Desktop only).\\nRegister before the course starts using this link.\\nJoin the course Telegram channel with announcements.\\nDon’t forget to register in DataTalks.Club's Slack and join the channel.\",\n",
    "  'section': 'General course-related questions',\n",
    "  'question': 'Course - When will the course start?',\n",
    "  'course': 'data-engineering-zoomcamp'},\n",
    " {'text': 'You can start by installing and setting up all the dependencies and requirements:\\nGoogle cloud account\\nGoogle Cloud SDK\\nPython 3 (installed with Anaconda)\\nTerraform\\nGit\\nLook over the prerequisites and syllabus to see if you are comfortable with these subjects.',\n",
    "  'section': 'General course-related questions',\n",
    "  'question': 'Course - What can I do before the course starts?',\n",
    "  'course': 'data-engineering-zoomcamp'},\n",
    " {'text': 'Star the repo! Share it with friends if you find it useful ❣️\\nCreate a PR if you see you can improve the text or the structure of the repository.',\n",
    "  'section': 'General course-related questions',\n",
    "  'question': 'How can we contribute to the course?',\n",
    "  'course': 'data-engineering-zoomcamp'}]"
   ]
  },
  {
   "cell_type": "code",
   "execution_count": 23,
   "metadata": {},
   "outputs": [
    {
     "name": "stdout",
     "output_type": "stream",
     "text": [
      "0\n",
      "[0.99568522]\n"
     ]
    }
   ],
   "source": [
    "q3_embeddings = []\n",
    "for document in documents:\n",
    "    q3_embeddings.append(embedding_model.embed(document['question']))\n",
    "\n",
    "cos_sims = []\n",
    "for embedding in q3_embeddings:\n",
    "    cos_sims.append(cosine_similarity(list(embedding), q2_doc_embedding[0]))\n",
    "\n",
    "print(cos_sims.index(max(cos_sims)))\n",
    "print(max(cos_sims))"
   ]
  },
  {
   "cell_type": "markdown",
   "metadata": {},
   "source": [
    "## q4"
   ]
  },
  {
   "cell_type": "code",
   "execution_count": 25,
   "metadata": {},
   "outputs": [
    {
     "name": "stdout",
     "output_type": "stream",
     "text": [
      "0\n",
      "[0.92732519]\n"
     ]
    }
   ],
   "source": [
    "q4_embeddings = []\n",
    "for document in documents:\n",
    "    full_text = document['question'] + ' ' + document['text']\n",
    "    q4_embeddings.append(embedding_model.embed(full_text))\n",
    "\n",
    "cos_sims = []\n",
    "for embedding in q4_embeddings:\n",
    "    cos_sims.append(cosine_similarity(list(embedding), q2_doc_embedding[0]))\n",
    "\n",
    "print(cos_sims.index(max(cos_sims)))\n",
    "print(max(cos_sims))"
   ]
  },
  {
   "cell_type": "markdown",
   "metadata": {},
   "source": [
    "## q5"
   ]
  },
  {
   "cell_type": "code",
   "execution_count": 26,
   "metadata": {},
   "outputs": [
    {
     "name": "stderr",
     "output_type": "stream",
     "text": [
      "Fetching 5 files: 100%|██████████| 5/5 [00:03<00:00,  1.47it/s]"
     ]
    },
    {
     "name": "stdout",
     "output_type": "stream",
     "text": [
      "384\n"
     ]
    },
    {
     "name": "stderr",
     "output_type": "stream",
     "text": [
      "\n"
     ]
    }
   ],
   "source": [
    "embedding_model = TextEmbedding('BAAI/bge-small-en')\n",
    "print(len(list(embedding_model.embed(doc))[0]))"
   ]
  },
  {
   "cell_type": "markdown",
   "metadata": {},
   "source": [
    "## q6"
   ]
  },
  {
   "cell_type": "code",
   "execution_count": 41,
   "metadata": {},
   "outputs": [
    {
     "name": "stdout",
     "output_type": "stream",
     "text": [
      "{'text': 'Machine Learning Zoomcamp FAQ\\nThe purpose of this document is to capture frequently asked technical questions.\\nWe did this for our data engineering course and it worked quite well. Check this document for inspiration on how to structure your questions and answers:\\nData Engineering Zoomcamp FAQ\\nIn the course GitHub repository there’s a link. Here it is: https://airtable.com/shryxwLd0COOEaqXo\\nwork', 'section': 'General course-related questions', 'question': 'How do I sign up?', 'course': 'machine-learning-zoomcamp'}\n"
     ]
    }
   ],
   "source": [
    "import requests\n",
    "from qdrant_client import QdrantClient, models\n",
    "\n",
    "client = QdrantClient(\"http://localhost:6333\")\n",
    "\n",
    "docs_url = 'https://github.com/alexeygrigorev/llm-rag-workshop/raw/main/notebooks/documents.json'\n",
    "docs_response = requests.get(docs_url)\n",
    "documents_raw = docs_response.json()\n",
    "\n",
    "collection_name = \"zoomcamp_faq\"\n",
    "# client.create_collection(\n",
    "#     collection_name=collection_name,\n",
    "#     vectors_config=models.VectorParams(\n",
    "#         size=384,\n",
    "#         distance=models.Distance.COSINE\n",
    "#     )\n",
    "# )\n",
    "\n",
    "documents = []\n",
    "\n",
    "points = []\n",
    "id = 0\n",
    "for course in documents_raw:\n",
    "    course_name = course['course']\n",
    "    if course_name != 'machine-learning-zoomcamp':\n",
    "        continue\n",
    "\n",
    "    for doc in course['documents']:\n",
    "        doc['course'] = course_name\n",
    "        documents.append(doc)\n",
    "        text = doc['question'] + ' ' + doc['text']\n",
    "        point = models.PointStruct(\n",
    "            id=id,\n",
    "            vector=models.Document(text=text, model='BAAI/bge-small-en'),\n",
    "            payload={\n",
    "                \"text\": doc['text'],\n",
    "                \"section\": doc['section'],\n",
    "                \"course\": course['course']\n",
    "            }\n",
    "        )\n",
    "        points.append(point)\n",
    "        id += 1\n",
    "print(documents[0])"
   ]
  },
  {
   "cell_type": "code",
   "execution_count": 42,
   "metadata": {},
   "outputs": [
    {
     "data": {
      "text/plain": [
       "UpdateResult(operation_id=1, status=<UpdateStatus.COMPLETED: 'completed'>)"
      ]
     },
     "execution_count": 42,
     "metadata": {},
     "output_type": "execute_result"
    }
   ],
   "source": [
    "client.upsert(\n",
    "    collection_name=collection_name,\n",
    "    points=points\n",
    ")"
   ]
  },
  {
   "cell_type": "code",
   "execution_count": 43,
   "metadata": {},
   "outputs": [],
   "source": [
    "def search(query, limit=1):\n",
    "    results = client.query_points(\n",
    "        collection_name=collection_name,\n",
    "        query=models.Document(\n",
    "            text=query,\n",
    "            model='BAAI/bge-small-en'\n",
    "        ),\n",
    "        limit=limit,\n",
    "        with_payload=True\n",
    "    )\n",
    "    return results"
   ]
  },
  {
   "cell_type": "code",
   "execution_count": 44,
   "metadata": {},
   "outputs": [
    {
     "data": {
      "text/plain": [
       "QueryResponse(points=[ScoredPoint(id=14, version=1, score=0.8703172, payload={'text': 'Yes, you can. You won’t be able to submit some of the homeworks, but you can still take part in the course.\\nIn order to get a certificate, you need to submit 2 out of 3 course projects and review 3 peers’ Projects by the deadline. It means that if you join the course at the end of November and manage to work on two projects, you will still be eligible for a certificate.', 'section': 'General course-related questions', 'course': 'machine-learning-zoomcamp'}, vector=None, shard_key=None, order_value=None)])"
      ]
     },
     "execution_count": 44,
     "metadata": {},
     "output_type": "execute_result"
    }
   ],
   "source": [
    "q = \"I just discovered the course. Can I join now?\"\n",
    "search(q)"
   ]
  }
 ],
 "metadata": {
  "kernelspec": {
   "display_name": ".venv",
   "language": "python",
   "name": "python3"
  },
  "language_info": {
   "codemirror_mode": {
    "name": "ipython",
    "version": 3
   },
   "file_extension": ".py",
   "mimetype": "text/x-python",
   "name": "python",
   "nbconvert_exporter": "python",
   "pygments_lexer": "ipython3",
   "version": "3.12.9"
  }
 },
 "nbformat": 4,
 "nbformat_minor": 2
}
